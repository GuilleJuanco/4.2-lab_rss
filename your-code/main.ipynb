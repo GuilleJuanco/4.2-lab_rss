{
 "cells": [
  {
   "attachments": {},
   "cell_type": "markdown",
   "metadata": {},
   "source": [
    "# Working with RSS Feeds Lab\n",
    "\n",
    "Complete the following set of exercises to solidify your knowledge of parsing RSS feeds and extracting information from them."
   ]
  },
  {
   "cell_type": "code",
   "execution_count": 2,
   "metadata": {},
   "outputs": [],
   "source": [
    "import feedparser"
   ]
  },
  {
   "attachments": {},
   "cell_type": "markdown",
   "metadata": {},
   "source": [
    "### 1. Use feedparser to parse the following RSS feed URL."
   ]
  },
  {
   "cell_type": "code",
   "execution_count": 3,
   "metadata": {},
   "outputs": [],
   "source": [
    "nasa = feedparser.parse('https://www.nasa.gov/content/nasa-rss-feeds')"
   ]
  },
  {
   "cell_type": "code",
   "execution_count": 4,
   "metadata": {},
   "outputs": [
    {
     "data": {
      "text/plain": [
       "feedparser.util.FeedParserDict"
      ]
     },
     "execution_count": 4,
     "metadata": {},
     "output_type": "execute_result"
    }
   ],
   "source": [
    "type(nasa)"
   ]
  },
  {
   "attachments": {},
   "cell_type": "markdown",
   "metadata": {},
   "source": [
    "### 2. Obtain a list of components (keys) that are available for this feed."
   ]
  },
  {
   "cell_type": "code",
   "execution_count": 5,
   "metadata": {},
   "outputs": [
    {
     "data": {
      "text/plain": [
       "dict_keys(['bozo', 'entries', 'feed', 'headers', 'etag', 'updated', 'updated_parsed', 'href', 'status', 'encoding', 'bozo_exception', 'version', 'namespaces'])"
      ]
     },
     "execution_count": 5,
     "metadata": {},
     "output_type": "execute_result"
    }
   ],
   "source": [
    "nasa.keys()"
   ]
  },
  {
   "attachments": {},
   "cell_type": "markdown",
   "metadata": {},
   "source": [
    "### 3. Obtain a list of components (keys) that are available for the *feed* component of this RSS feed."
   ]
  },
  {
   "cell_type": "code",
   "execution_count": 6,
   "metadata": {},
   "outputs": [
    {
     "data": {
      "text/plain": [
       "dict_keys(['html', 'meta', 'links', 'script', 'summary'])"
      ]
     },
     "execution_count": 6,
     "metadata": {},
     "output_type": "execute_result"
    }
   ],
   "source": [
    "nasa['feed'].keys()"
   ]
  },
  {
   "attachments": {},
   "cell_type": "markdown",
   "metadata": {},
   "source": [
    "### 4. Extract and print the feed title, subtitle, author, and link."
   ]
  },
  {
   "cell_type": "code",
   "execution_count": 25,
   "metadata": {},
   "outputs": [
    {
     "data": {
      "text/plain": [
       "[['NASA Welcomes Czech Foreign Minister for Artemis Accords Signing',\n",
       "  'http://www.nasa.gov/press-release/nasa-welcomes-czech-foreign-minister-for-artemis-accords-signing'],\n",
       " ['NASA Sets Coverage for Dragon Port Relocation on Space Station',\n",
       "  'http://www.nasa.gov/press-release/nasa-sets-coverage-for-dragon-port-relocation-on-space-station'],\n",
       " ['Entrepreneurs to Pitch Ideas for Future in NASA ‘Space Tank’',\n",
       "  'http://www.nasa.gov/press-release/entrepreneurs-to-pitch-ideas-for-future-in-nasa-space-tank'],\n",
       " ['NASA Updates Coverage of Roscosmos Spacewalks at Space Station',\n",
       "  'http://www.nasa.gov/press-release/nasa-updates-coverage-of-roscosmos-spacewalks-at-space-station'],\n",
       " ['NASA Sets Coverage for Czech Republic Artemis Accords Signing Ceremony',\n",
       "  'http://www.nasa.gov/press-release/nasa-sets-coverage-for-czech-republic-artemis-accords-signing-ceremony'],\n",
       " ['NASA Experts Available for Interviews About Sea and Sky Campaign',\n",
       "  'http://www.nasa.gov/press-release/nasa-experts-available-for-interviews-about-sea-and-sky-campaign'],\n",
       " ['NASA Announces Winners of 2023 Human Exploration Rover Challenge',\n",
       "  'http://www.nasa.gov/press-release/nasa-announces-winners-of-2023-human-exploration-rover-challenge'],\n",
       " ['NASA Selects 12 Companies to Collaborate on Key Technology Development',\n",
       "  'http://www.nasa.gov/press-release/nasa-selects-12-companies-to-collaborate-on-key-technology-development'],\n",
       " ['NASA Announces Student Winners of Power to Explore Challenge',\n",
       "  'http://www.nasa.gov/press-release/nasa-announces-student-winners-of-power-to-explore-challenge'],\n",
       " ['NASA, Rocket Lab Set Coverage for Tropical Cyclones Mission',\n",
       "  'http://www.nasa.gov/press-release/nasa-rocket-lab-set-coverage-for-tropical-cyclones-mission']]"
      ]
     },
     "execution_count": 25,
     "metadata": {},
     "output_type": "execute_result"
    }
   ],
   "source": [
    "\n",
    "url_2 = feedparser.parse('https://www.nasa.gov/rss/dyn/breaking_news.rss')\n",
    "\n",
    "\n",
    "list_solution = [[e['title'], e['link']] for e in url_2.entries]\n",
    "\n",
    "list_solution\n",
    "\n",
    "#Couldn´t find author and subtitle for all entries.\n",
    "\n"
   ]
  },
  {
   "attachments": {},
   "cell_type": "markdown",
   "metadata": {},
   "source": [
    "### 5. Count the number of entries that are contained in this RSS feed."
   ]
  },
  {
   "cell_type": "code",
   "execution_count": 31,
   "metadata": {},
   "outputs": [
    {
     "name": "stdout",
     "output_type": "stream",
     "text": [
      "The number of entries is 10\n"
     ]
    }
   ],
   "source": [
    "print(f'The number of entries is {len(url_2.entries)}')"
   ]
  },
  {
   "attachments": {},
   "cell_type": "markdown",
   "metadata": {},
   "source": [
    "### 6. Obtain a list of components (keys) available for an entry.\n",
    "\n",
    "*Hint: Remember to index first before requesting the keys*"
   ]
  },
  {
   "cell_type": "code",
   "execution_count": 32,
   "metadata": {},
   "outputs": [
    {
     "data": {
      "text/plain": [
       "dict_keys(['title', 'title_detail', 'links', 'link', 'summary', 'summary_detail', 'id', 'guidislink', 'published', 'published_parsed', 'source', 'dc_identifier'])"
      ]
     },
     "execution_count": 32,
     "metadata": {},
     "output_type": "execute_result"
    }
   ],
   "source": [
    "url_2['entries'][0].keys()"
   ]
  },
  {
   "attachments": {},
   "cell_type": "markdown",
   "metadata": {},
   "source": [
    "### 7. Extract a list of entry titles."
   ]
  },
  {
   "cell_type": "code",
   "execution_count": 39,
   "metadata": {},
   "outputs": [
    {
     "data": {
      "text/plain": [
       "['NASA Welcomes Czech Foreign Minister for Artemis Accords Signing',\n",
       " 'NASA Sets Coverage for Dragon Port Relocation on Space Station',\n",
       " 'Entrepreneurs to Pitch Ideas for Future in NASA ‘Space Tank’',\n",
       " 'NASA Updates Coverage of Roscosmos Spacewalks at Space Station',\n",
       " 'NASA Sets Coverage for Czech Republic Artemis Accords Signing Ceremony',\n",
       " 'NASA Experts Available for Interviews About Sea and Sky Campaign',\n",
       " 'NASA Announces Winners of 2023 Human Exploration Rover Challenge',\n",
       " 'NASA Selects 12 Companies to Collaborate on Key Technology Development',\n",
       " 'NASA Announces Student Winners of Power to Explore Challenge',\n",
       " 'NASA, Rocket Lab Set Coverage for Tropical Cyclones Mission']"
      ]
     },
     "execution_count": 39,
     "metadata": {},
     "output_type": "execute_result"
    }
   ],
   "source": [
    "\n",
    "entry_titles=[e.title for e in url_2.entries]\n",
    "\n",
    "entry_titles"
   ]
  },
  {
   "attachments": {},
   "cell_type": "markdown",
   "metadata": {},
   "source": [
    "### 8. Calculate the percentage of \"Four short links\" entry titles."
   ]
  },
  {
   "cell_type": "code",
   "execution_count": null,
   "metadata": {},
   "outputs": [],
   "source": [
    "#Couldn´t find it"
   ]
  },
  {
   "attachments": {},
   "cell_type": "markdown",
   "metadata": {},
   "source": [
    "### 9. Create a Pandas data frame from the feed's entries."
   ]
  },
  {
   "cell_type": "code",
   "execution_count": 44,
   "metadata": {},
   "outputs": [],
   "source": [
    "import pandas as pd"
   ]
  },
  {
   "cell_type": "code",
   "execution_count": 47,
   "metadata": {},
   "outputs": [
    {
     "data": {
      "text/html": [
       "<div>\n",
       "<style scoped>\n",
       "    .dataframe tbody tr th:only-of-type {\n",
       "        vertical-align: middle;\n",
       "    }\n",
       "\n",
       "    .dataframe tbody tr th {\n",
       "        vertical-align: top;\n",
       "    }\n",
       "\n",
       "    .dataframe thead th {\n",
       "        text-align: right;\n",
       "    }\n",
       "</style>\n",
       "<table border=\"1\" class=\"dataframe\">\n",
       "  <thead>\n",
       "    <tr style=\"text-align: right;\">\n",
       "      <th></th>\n",
       "      <th>title</th>\n",
       "      <th>title_detail</th>\n",
       "      <th>links</th>\n",
       "      <th>link</th>\n",
       "      <th>summary</th>\n",
       "      <th>summary_detail</th>\n",
       "      <th>id</th>\n",
       "      <th>guidislink</th>\n",
       "      <th>published</th>\n",
       "      <th>published_parsed</th>\n",
       "      <th>source</th>\n",
       "      <th>dc_identifier</th>\n",
       "    </tr>\n",
       "  </thead>\n",
       "  <tbody>\n",
       "    <tr>\n",
       "      <th>0</th>\n",
       "      <td>NASA Welcomes Czech Foreign Minister for Artem...</td>\n",
       "      <td>{'type': 'text/plain', 'language': 'en', 'base...</td>\n",
       "      <td>[{'rel': 'alternate', 'type': 'text/html', 'hr...</td>\n",
       "      <td>http://www.nasa.gov/press-release/nasa-welcome...</td>\n",
       "      <td>During a ceremony at NASA Headquarters in Wash...</td>\n",
       "      <td>{'type': 'text/html', 'language': 'en', 'base'...</td>\n",
       "      <td>http://www.nasa.gov/press-release/nasa-welcome...</td>\n",
       "      <td>False</td>\n",
       "      <td>Wed, 03 May 2023 10:36 EDT</td>\n",
       "      <td>(2023, 5, 3, 14, 36, 0, 2, 123, 0)</td>\n",
       "      <td>{'href': 'http://www.nasa.gov/rss/dyn/breaking...</td>\n",
       "      <td>487001</td>\n",
       "    </tr>\n",
       "    <tr>\n",
       "      <th>1</th>\n",
       "      <td>NASA Sets Coverage for Dragon Port Relocation ...</td>\n",
       "      <td>{'type': 'text/plain', 'language': 'en', 'base...</td>\n",
       "      <td>[{'rel': 'alternate', 'type': 'text/html', 'hr...</td>\n",
       "      <td>http://www.nasa.gov/press-release/nasa-sets-co...</td>\n",
       "      <td>Four crew members aboard the International Spa...</td>\n",
       "      <td>{'type': 'text/html', 'language': 'en', 'base'...</td>\n",
       "      <td>http://www.nasa.gov/press-release/nasa-sets-co...</td>\n",
       "      <td>False</td>\n",
       "      <td>Mon, 01 May 2023 15:06 EDT</td>\n",
       "      <td>(2023, 5, 1, 19, 6, 0, 0, 121, 0)</td>\n",
       "      <td>{'href': 'http://www.nasa.gov/rss/dyn/breaking...</td>\n",
       "      <td>486960</td>\n",
       "    </tr>\n",
       "    <tr>\n",
       "      <th>2</th>\n",
       "      <td>Entrepreneurs to Pitch Ideas for Future in NAS...</td>\n",
       "      <td>{'type': 'text/plain', 'language': 'en', 'base...</td>\n",
       "      <td>[{'rel': 'alternate', 'type': 'text/html', 'hr...</td>\n",
       "      <td>http://www.nasa.gov/press-release/entrepreneur...</td>\n",
       "      <td>College students in NASA’s Minority University...</td>\n",
       "      <td>{'type': 'text/html', 'language': 'en', 'base'...</td>\n",
       "      <td>http://www.nasa.gov/press-release/entrepreneur...</td>\n",
       "      <td>False</td>\n",
       "      <td>Thu, 27 Apr 2023 14:02 EDT</td>\n",
       "      <td>(2023, 4, 27, 18, 2, 0, 3, 117, 0)</td>\n",
       "      <td>{'href': 'http://www.nasa.gov/rss/dyn/breaking...</td>\n",
       "      <td>486922</td>\n",
       "    </tr>\n",
       "    <tr>\n",
       "      <th>3</th>\n",
       "      <td>NASA Updates Coverage of Roscosmos Spacewalks ...</td>\n",
       "      <td>{'type': 'text/plain', 'language': 'en', 'base...</td>\n",
       "      <td>[{'rel': 'alternate', 'type': 'text/html', 'hr...</td>\n",
       "      <td>http://www.nasa.gov/press-release/nasa-updates...</td>\n",
       "      <td>NASA will provide live coverage as two Roscosm...</td>\n",
       "      <td>{'type': 'text/html', 'language': 'en', 'base'...</td>\n",
       "      <td>http://www.nasa.gov/press-release/nasa-updates...</td>\n",
       "      <td>False</td>\n",
       "      <td>Wed, 26 Apr 2023 14:59 EDT</td>\n",
       "      <td>(2023, 4, 26, 18, 59, 0, 2, 116, 0)</td>\n",
       "      <td>{'href': 'http://www.nasa.gov/rss/dyn/breaking...</td>\n",
       "      <td>486897</td>\n",
       "    </tr>\n",
       "    <tr>\n",
       "      <th>4</th>\n",
       "      <td>NASA Sets Coverage for Czech Republic Artemis ...</td>\n",
       "      <td>{'type': 'text/plain', 'language': 'en', 'base...</td>\n",
       "      <td>[{'rel': 'alternate', 'type': 'text/html', 'hr...</td>\n",
       "      <td>http://www.nasa.gov/press-release/nasa-sets-co...</td>\n",
       "      <td>The Czech Republic is expected to sign the Art...</td>\n",
       "      <td>{'type': 'text/html', 'language': 'en', 'base'...</td>\n",
       "      <td>http://www.nasa.gov/press-release/nasa-sets-co...</td>\n",
       "      <td>False</td>\n",
       "      <td>Wed, 26 Apr 2023 14:49 EDT</td>\n",
       "      <td>(2023, 4, 26, 18, 49, 0, 2, 116, 0)</td>\n",
       "      <td>{'href': 'http://www.nasa.gov/rss/dyn/breaking...</td>\n",
       "      <td>486898</td>\n",
       "    </tr>\n",
       "    <tr>\n",
       "      <th>5</th>\n",
       "      <td>NASA Experts Available for Interviews About Se...</td>\n",
       "      <td>{'type': 'text/plain', 'language': 'en', 'base...</td>\n",
       "      <td>[{'rel': 'alternate', 'type': 'text/html', 'hr...</td>\n",
       "      <td>http://www.nasa.gov/press-release/nasa-experts...</td>\n",
       "      <td>This spring, NASA’s S-MODE (Sub-Mesoscale Ocea...</td>\n",
       "      <td>{'type': 'text/html', 'language': 'en', 'base'...</td>\n",
       "      <td>http://www.nasa.gov/press-release/nasa-experts...</td>\n",
       "      <td>False</td>\n",
       "      <td>Wed, 26 Apr 2023 14:09 EDT</td>\n",
       "      <td>(2023, 4, 26, 18, 9, 0, 2, 116, 0)</td>\n",
       "      <td>{'href': 'http://www.nasa.gov/rss/dyn/breaking...</td>\n",
       "      <td>486894</td>\n",
       "    </tr>\n",
       "    <tr>\n",
       "      <th>6</th>\n",
       "      <td>NASA Announces Winners of 2023 Human Explorati...</td>\n",
       "      <td>{'type': 'text/plain', 'language': 'en', 'base...</td>\n",
       "      <td>[{'rel': 'alternate', 'type': 'text/html', 'hr...</td>\n",
       "      <td>http://www.nasa.gov/press-release/nasa-announc...</td>\n",
       "      <td>NASA has announced the winners of the 2023 Hum...</td>\n",
       "      <td>{'type': 'text/html', 'language': 'en', 'base'...</td>\n",
       "      <td>http://www.nasa.gov/press-release/nasa-announc...</td>\n",
       "      <td>False</td>\n",
       "      <td>Wed, 26 Apr 2023 09:04 EDT</td>\n",
       "      <td>(2023, 4, 26, 13, 4, 0, 2, 116, 0)</td>\n",
       "      <td>{'href': 'http://www.nasa.gov/rss/dyn/breaking...</td>\n",
       "      <td>486884</td>\n",
       "    </tr>\n",
       "    <tr>\n",
       "      <th>7</th>\n",
       "      <td>NASA Selects 12 Companies to Collaborate on Ke...</td>\n",
       "      <td>{'type': 'text/plain', 'language': 'en', 'base...</td>\n",
       "      <td>[{'rel': 'alternate', 'type': 'text/html', 'hr...</td>\n",
       "      <td>http://www.nasa.gov/press-release/nasa-selects...</td>\n",
       "      <td>NASA has selected 16 proposals from 12 compani...</td>\n",
       "      <td>{'type': 'text/html', 'language': 'en', 'base'...</td>\n",
       "      <td>http://www.nasa.gov/press-release/nasa-selects...</td>\n",
       "      <td>False</td>\n",
       "      <td>Tue, 25 Apr 2023 14:31 EDT</td>\n",
       "      <td>(2023, 4, 25, 18, 31, 0, 1, 115, 0)</td>\n",
       "      <td>{'href': 'http://www.nasa.gov/rss/dyn/breaking...</td>\n",
       "      <td>486867</td>\n",
       "    </tr>\n",
       "    <tr>\n",
       "      <th>8</th>\n",
       "      <td>NASA Announces Student Winners of Power to Exp...</td>\n",
       "      <td>{'type': 'text/plain', 'language': 'en', 'base...</td>\n",
       "      <td>[{'rel': 'alternate', 'type': 'text/html', 'hr...</td>\n",
       "      <td>http://www.nasa.gov/press-release/nasa-announc...</td>\n",
       "      <td>NASA selected three winners out of nine finali...</td>\n",
       "      <td>{'type': 'text/html', 'language': 'en', 'base'...</td>\n",
       "      <td>http://www.nasa.gov/press-release/nasa-announc...</td>\n",
       "      <td>False</td>\n",
       "      <td>Tue, 25 Apr 2023 10:30 EDT</td>\n",
       "      <td>(2023, 4, 25, 14, 30, 0, 1, 115, 0)</td>\n",
       "      <td>{'href': 'http://www.nasa.gov/rss/dyn/breaking...</td>\n",
       "      <td>486862</td>\n",
       "    </tr>\n",
       "    <tr>\n",
       "      <th>9</th>\n",
       "      <td>NASA, Rocket Lab Set Coverage for Tropical Cyc...</td>\n",
       "      <td>{'type': 'text/plain', 'language': 'en', 'base...</td>\n",
       "      <td>[{'rel': 'alternate', 'type': 'text/html', 'hr...</td>\n",
       "      <td>http://www.nasa.gov/press-release/nasa-rocket-...</td>\n",
       "      <td>NASA and Rocket Lab are targeting 9 p.m. EDT, ...</td>\n",
       "      <td>{'type': 'text/html', 'language': 'en', 'base'...</td>\n",
       "      <td>http://www.nasa.gov/press-release/nasa-rocket-...</td>\n",
       "      <td>False</td>\n",
       "      <td>Mon, 24 Apr 2023 15:18 EDT</td>\n",
       "      <td>(2023, 4, 24, 19, 18, 0, 0, 114, 0)</td>\n",
       "      <td>{'href': 'http://www.nasa.gov/rss/dyn/breaking...</td>\n",
       "      <td>486848</td>\n",
       "    </tr>\n",
       "  </tbody>\n",
       "</table>\n",
       "</div>"
      ],
      "text/plain": [
       "                                               title  \\\n",
       "0  NASA Welcomes Czech Foreign Minister for Artem...   \n",
       "1  NASA Sets Coverage for Dragon Port Relocation ...   \n",
       "2  Entrepreneurs to Pitch Ideas for Future in NAS...   \n",
       "3  NASA Updates Coverage of Roscosmos Spacewalks ...   \n",
       "4  NASA Sets Coverage for Czech Republic Artemis ...   \n",
       "5  NASA Experts Available for Interviews About Se...   \n",
       "6  NASA Announces Winners of 2023 Human Explorati...   \n",
       "7  NASA Selects 12 Companies to Collaborate on Ke...   \n",
       "8  NASA Announces Student Winners of Power to Exp...   \n",
       "9  NASA, Rocket Lab Set Coverage for Tropical Cyc...   \n",
       "\n",
       "                                        title_detail  \\\n",
       "0  {'type': 'text/plain', 'language': 'en', 'base...   \n",
       "1  {'type': 'text/plain', 'language': 'en', 'base...   \n",
       "2  {'type': 'text/plain', 'language': 'en', 'base...   \n",
       "3  {'type': 'text/plain', 'language': 'en', 'base...   \n",
       "4  {'type': 'text/plain', 'language': 'en', 'base...   \n",
       "5  {'type': 'text/plain', 'language': 'en', 'base...   \n",
       "6  {'type': 'text/plain', 'language': 'en', 'base...   \n",
       "7  {'type': 'text/plain', 'language': 'en', 'base...   \n",
       "8  {'type': 'text/plain', 'language': 'en', 'base...   \n",
       "9  {'type': 'text/plain', 'language': 'en', 'base...   \n",
       "\n",
       "                                               links  \\\n",
       "0  [{'rel': 'alternate', 'type': 'text/html', 'hr...   \n",
       "1  [{'rel': 'alternate', 'type': 'text/html', 'hr...   \n",
       "2  [{'rel': 'alternate', 'type': 'text/html', 'hr...   \n",
       "3  [{'rel': 'alternate', 'type': 'text/html', 'hr...   \n",
       "4  [{'rel': 'alternate', 'type': 'text/html', 'hr...   \n",
       "5  [{'rel': 'alternate', 'type': 'text/html', 'hr...   \n",
       "6  [{'rel': 'alternate', 'type': 'text/html', 'hr...   \n",
       "7  [{'rel': 'alternate', 'type': 'text/html', 'hr...   \n",
       "8  [{'rel': 'alternate', 'type': 'text/html', 'hr...   \n",
       "9  [{'rel': 'alternate', 'type': 'text/html', 'hr...   \n",
       "\n",
       "                                                link  \\\n",
       "0  http://www.nasa.gov/press-release/nasa-welcome...   \n",
       "1  http://www.nasa.gov/press-release/nasa-sets-co...   \n",
       "2  http://www.nasa.gov/press-release/entrepreneur...   \n",
       "3  http://www.nasa.gov/press-release/nasa-updates...   \n",
       "4  http://www.nasa.gov/press-release/nasa-sets-co...   \n",
       "5  http://www.nasa.gov/press-release/nasa-experts...   \n",
       "6  http://www.nasa.gov/press-release/nasa-announc...   \n",
       "7  http://www.nasa.gov/press-release/nasa-selects...   \n",
       "8  http://www.nasa.gov/press-release/nasa-announc...   \n",
       "9  http://www.nasa.gov/press-release/nasa-rocket-...   \n",
       "\n",
       "                                             summary  \\\n",
       "0  During a ceremony at NASA Headquarters in Wash...   \n",
       "1  Four crew members aboard the International Spa...   \n",
       "2  College students in NASA’s Minority University...   \n",
       "3  NASA will provide live coverage as two Roscosm...   \n",
       "4  The Czech Republic is expected to sign the Art...   \n",
       "5  This spring, NASA’s S-MODE (Sub-Mesoscale Ocea...   \n",
       "6  NASA has announced the winners of the 2023 Hum...   \n",
       "7  NASA has selected 16 proposals from 12 compani...   \n",
       "8  NASA selected three winners out of nine finali...   \n",
       "9  NASA and Rocket Lab are targeting 9 p.m. EDT, ...   \n",
       "\n",
       "                                      summary_detail  \\\n",
       "0  {'type': 'text/html', 'language': 'en', 'base'...   \n",
       "1  {'type': 'text/html', 'language': 'en', 'base'...   \n",
       "2  {'type': 'text/html', 'language': 'en', 'base'...   \n",
       "3  {'type': 'text/html', 'language': 'en', 'base'...   \n",
       "4  {'type': 'text/html', 'language': 'en', 'base'...   \n",
       "5  {'type': 'text/html', 'language': 'en', 'base'...   \n",
       "6  {'type': 'text/html', 'language': 'en', 'base'...   \n",
       "7  {'type': 'text/html', 'language': 'en', 'base'...   \n",
       "8  {'type': 'text/html', 'language': 'en', 'base'...   \n",
       "9  {'type': 'text/html', 'language': 'en', 'base'...   \n",
       "\n",
       "                                                  id  guidislink  \\\n",
       "0  http://www.nasa.gov/press-release/nasa-welcome...       False   \n",
       "1  http://www.nasa.gov/press-release/nasa-sets-co...       False   \n",
       "2  http://www.nasa.gov/press-release/entrepreneur...       False   \n",
       "3  http://www.nasa.gov/press-release/nasa-updates...       False   \n",
       "4  http://www.nasa.gov/press-release/nasa-sets-co...       False   \n",
       "5  http://www.nasa.gov/press-release/nasa-experts...       False   \n",
       "6  http://www.nasa.gov/press-release/nasa-announc...       False   \n",
       "7  http://www.nasa.gov/press-release/nasa-selects...       False   \n",
       "8  http://www.nasa.gov/press-release/nasa-announc...       False   \n",
       "9  http://www.nasa.gov/press-release/nasa-rocket-...       False   \n",
       "\n",
       "                    published                     published_parsed  \\\n",
       "0  Wed, 03 May 2023 10:36 EDT   (2023, 5, 3, 14, 36, 0, 2, 123, 0)   \n",
       "1  Mon, 01 May 2023 15:06 EDT    (2023, 5, 1, 19, 6, 0, 0, 121, 0)   \n",
       "2  Thu, 27 Apr 2023 14:02 EDT   (2023, 4, 27, 18, 2, 0, 3, 117, 0)   \n",
       "3  Wed, 26 Apr 2023 14:59 EDT  (2023, 4, 26, 18, 59, 0, 2, 116, 0)   \n",
       "4  Wed, 26 Apr 2023 14:49 EDT  (2023, 4, 26, 18, 49, 0, 2, 116, 0)   \n",
       "5  Wed, 26 Apr 2023 14:09 EDT   (2023, 4, 26, 18, 9, 0, 2, 116, 0)   \n",
       "6  Wed, 26 Apr 2023 09:04 EDT   (2023, 4, 26, 13, 4, 0, 2, 116, 0)   \n",
       "7  Tue, 25 Apr 2023 14:31 EDT  (2023, 4, 25, 18, 31, 0, 1, 115, 0)   \n",
       "8  Tue, 25 Apr 2023 10:30 EDT  (2023, 4, 25, 14, 30, 0, 1, 115, 0)   \n",
       "9  Mon, 24 Apr 2023 15:18 EDT  (2023, 4, 24, 19, 18, 0, 0, 114, 0)   \n",
       "\n",
       "                                              source dc_identifier  \n",
       "0  {'href': 'http://www.nasa.gov/rss/dyn/breaking...        487001  \n",
       "1  {'href': 'http://www.nasa.gov/rss/dyn/breaking...        486960  \n",
       "2  {'href': 'http://www.nasa.gov/rss/dyn/breaking...        486922  \n",
       "3  {'href': 'http://www.nasa.gov/rss/dyn/breaking...        486897  \n",
       "4  {'href': 'http://www.nasa.gov/rss/dyn/breaking...        486898  \n",
       "5  {'href': 'http://www.nasa.gov/rss/dyn/breaking...        486894  \n",
       "6  {'href': 'http://www.nasa.gov/rss/dyn/breaking...        486884  \n",
       "7  {'href': 'http://www.nasa.gov/rss/dyn/breaking...        486867  \n",
       "8  {'href': 'http://www.nasa.gov/rss/dyn/breaking...        486862  \n",
       "9  {'href': 'http://www.nasa.gov/rss/dyn/breaking...        486848  "
      ]
     },
     "execution_count": 47,
     "metadata": {},
     "output_type": "execute_result"
    }
   ],
   "source": [
    "df_nasa = pd.DataFrame(url_2.entries)\n",
    "\n",
    "df_nasa"
   ]
  },
  {
   "attachments": {},
   "cell_type": "markdown",
   "metadata": {},
   "source": [
    "### 10. Count the number of entries per author and sort them in descending order."
   ]
  },
  {
   "cell_type": "code",
   "execution_count": 50,
   "metadata": {},
   "outputs": [
    {
     "data": {
      "text/plain": [
       "dict_keys(['title', 'title_detail', 'links', 'link', 'summary', 'summary_detail', 'id', 'guidislink', 'published', 'published_parsed', 'source', 'dc_identifier'])"
      ]
     },
     "execution_count": 50,
     "metadata": {},
     "output_type": "execute_result"
    }
   ],
   "source": [
    "url_2.entries[0].keys()\n",
    "#It doesn´t have an author key."
   ]
  },
  {
   "attachments": {},
   "cell_type": "markdown",
   "metadata": {},
   "source": [
    "### 11. Add a new column to the data frame that contains the length (number of characters) of each entry title. Return a data frame that contains the title, author, and title length of each entry in descending order (longest title length at the top)."
   ]
  },
  {
   "cell_type": "code",
   "execution_count": 55,
   "metadata": {},
   "outputs": [
    {
     "data": {
      "text/html": [
       "<div>\n",
       "<style scoped>\n",
       "    .dataframe tbody tr th:only-of-type {\n",
       "        vertical-align: middle;\n",
       "    }\n",
       "\n",
       "    .dataframe tbody tr th {\n",
       "        vertical-align: top;\n",
       "    }\n",
       "\n",
       "    .dataframe thead th {\n",
       "        text-align: right;\n",
       "    }\n",
       "</style>\n",
       "<table border=\"1\" class=\"dataframe\">\n",
       "  <thead>\n",
       "    <tr style=\"text-align: right;\">\n",
       "      <th></th>\n",
       "      <th>title</th>\n",
       "      <th>title_len</th>\n",
       "    </tr>\n",
       "  </thead>\n",
       "  <tbody>\n",
       "    <tr>\n",
       "      <th>0</th>\n",
       "      <td>NASA Welcomes Czech Foreign Minister for Artem...</td>\n",
       "      <td>64</td>\n",
       "    </tr>\n",
       "    <tr>\n",
       "      <th>1</th>\n",
       "      <td>NASA Sets Coverage for Dragon Port Relocation ...</td>\n",
       "      <td>62</td>\n",
       "    </tr>\n",
       "    <tr>\n",
       "      <th>2</th>\n",
       "      <td>Entrepreneurs to Pitch Ideas for Future in NAS...</td>\n",
       "      <td>60</td>\n",
       "    </tr>\n",
       "    <tr>\n",
       "      <th>3</th>\n",
       "      <td>NASA Updates Coverage of Roscosmos Spacewalks ...</td>\n",
       "      <td>62</td>\n",
       "    </tr>\n",
       "    <tr>\n",
       "      <th>4</th>\n",
       "      <td>NASA Sets Coverage for Czech Republic Artemis ...</td>\n",
       "      <td>70</td>\n",
       "    </tr>\n",
       "    <tr>\n",
       "      <th>5</th>\n",
       "      <td>NASA Experts Available for Interviews About Se...</td>\n",
       "      <td>64</td>\n",
       "    </tr>\n",
       "    <tr>\n",
       "      <th>6</th>\n",
       "      <td>NASA Announces Winners of 2023 Human Explorati...</td>\n",
       "      <td>64</td>\n",
       "    </tr>\n",
       "    <tr>\n",
       "      <th>7</th>\n",
       "      <td>NASA Selects 12 Companies to Collaborate on Ke...</td>\n",
       "      <td>70</td>\n",
       "    </tr>\n",
       "    <tr>\n",
       "      <th>8</th>\n",
       "      <td>NASA Announces Student Winners of Power to Exp...</td>\n",
       "      <td>60</td>\n",
       "    </tr>\n",
       "    <tr>\n",
       "      <th>9</th>\n",
       "      <td>NASA, Rocket Lab Set Coverage for Tropical Cyc...</td>\n",
       "      <td>59</td>\n",
       "    </tr>\n",
       "  </tbody>\n",
       "</table>\n",
       "</div>"
      ],
      "text/plain": [
       "                                               title  title_len\n",
       "0  NASA Welcomes Czech Foreign Minister for Artem...         64\n",
       "1  NASA Sets Coverage for Dragon Port Relocation ...         62\n",
       "2  Entrepreneurs to Pitch Ideas for Future in NAS...         60\n",
       "3  NASA Updates Coverage of Roscosmos Spacewalks ...         62\n",
       "4  NASA Sets Coverage for Czech Republic Artemis ...         70\n",
       "5  NASA Experts Available for Interviews About Se...         64\n",
       "6  NASA Announces Winners of 2023 Human Explorati...         64\n",
       "7  NASA Selects 12 Companies to Collaborate on Ke...         70\n",
       "8  NASA Announces Student Winners of Power to Exp...         60\n",
       "9  NASA, Rocket Lab Set Coverage for Tropical Cyc...         59"
      ]
     },
     "execution_count": 55,
     "metadata": {},
     "output_type": "execute_result"
    }
   ],
   "source": [
    "df_nasa['title_len']=df_nasa['title'].apply(len)\n",
    "df_nasa_2= df_nasa.loc[:, ['title', 'title_len']]\n",
    "df_nasa_2\n"
   ]
  },
  {
   "attachments": {},
   "cell_type": "markdown",
   "metadata": {},
   "source": [
    "### 12. Create a list of entry titles whose summary includes the phrase \"machine learning.\""
   ]
  },
  {
   "cell_type": "code",
   "execution_count": 56,
   "metadata": {},
   "outputs": [
    {
     "data": {
      "text/plain": [
       "[0   NaN\n",
       " 1   NaN\n",
       " 2   NaN\n",
       " 3   NaN\n",
       " 4   NaN\n",
       " 5   NaN\n",
       " 6   NaN\n",
       " 7   NaN\n",
       " 8   NaN\n",
       " 9   NaN\n",
       " Name: summary_detail, dtype: float64]"
      ]
     },
     "execution_count": 56,
     "metadata": {},
     "output_type": "execute_result"
    }
   ],
   "source": [
    "df_ml = [df_nasa[\"summary_detail\"].str.contains(\"machine learning\")]\n",
    "df_ml"
   ]
  }
 ],
 "metadata": {
  "kernelspec": {
   "display_name": "Python 3 (ipykernel)",
   "language": "python",
   "name": "python3"
  },
  "language_info": {
   "codemirror_mode": {
    "name": "ipython",
    "version": 3
   },
   "file_extension": ".py",
   "mimetype": "text/x-python",
   "name": "python",
   "nbconvert_exporter": "python",
   "pygments_lexer": "ipython3",
   "version": "3.9.13"
  }
 },
 "nbformat": 4,
 "nbformat_minor": 2
}
